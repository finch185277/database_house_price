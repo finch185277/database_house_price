{
 "cells": [
  {
   "cell_type": "code",
   "execution_count": 1,
   "metadata": {},
   "outputs": [],
   "source": [
    "import os\n",
    "import re\n",
    "import pandas as pd\n",
    "import numpy as np"
   ]
  },
  {
   "cell_type": "code",
   "execution_count": 2,
   "metadata": {},
   "outputs": [
    {
     "name": "stdout",
     "output_type": "stream",
     "text": [
      "Empty DataFrame\n",
      "Columns: [city, 鄉鎮市區, 交易標的, 土地區段位置建物區段門牌, 土地移轉總面積平方公尺, 都市土地使用分區, 非都市土地使用分區, 非都市土地使用編定, 交易年月日, 交易筆棟數, 移轉層次, 總樓層數, 建物型態, 主要用途, 主要建材, 建築完成年月, 建物移轉總面積平方公尺, 建物現況格局-房, 建物現況格局-廳, 建物現況格局-衛, 建物現況格局-隔間, 有無管理組織, 總價元, 單價元平方公尺, 車位類別, 車位移轉總面積平方公尺, 車位總價元, 備註, 編號]\n",
      "Index: []\n",
      "\n",
      "[0 rows x 29 columns]\n"
     ]
    }
   ],
   "source": [
    "df = pd.read_csv('../original/107_1/A_lvr_land_A.csv')\n",
    "df.drop([0], inplace=True)\n",
    "col = list(df.columns)\n",
    "col.insert(0, 'city')\n",
    "merge_df = pd.DataFrame(columns=col)\n",
    "print(merge_df)"
   ]
  },
  {
   "cell_type": "code",
   "execution_count": 3,
   "metadata": {},
   "outputs": [],
   "source": [
    "city_dict = {\n",
    "    'A':'臺北市', 'J':'新竹縣', 'S':'高雄縣', \n",
    "    'B':'臺中市', 'K':'苗栗縣', 'T':'屏東縣', \n",
    "    'C':'基隆市', 'L':'臺中縣', 'U':'花蓮縣', \n",
    "    'D':'臺南市', 'M':'南投縣', 'V':'臺東縣', \n",
    "    'E':'高雄市', 'N':'彰化縣', 'W':'金門縣', \n",
    "    'F':'臺北縣', 'O':'新竹市', 'X':'澎湖縣', \n",
    "    'G':'宜蘭縣', 'P':'雲林縣', 'Y':'陽明山', \n",
    "    'H':'桃園縣', 'Q':'嘉義縣', 'Z':'連江縣', \n",
    "    'I':'嘉義市', 'R':'臺南縣'}"
   ]
  },
  {
   "cell_type": "code",
   "execution_count": 4,
   "metadata": {},
   "outputs": [],
   "source": [
    "for foldername in os.listdir(\"../original\"):\n",
    "    if re.match(\"10*\", foldername):\n",
    "        for filename in os.listdir(\"../original/\" + foldername):\n",
    "            if re.match(\"[A-Z]_lvr_land_*\", filename):\n",
    "                tmp_df = pd.read_csv('../original/107_1/' + filename)\n",
    "                tmp_df.drop([0], inplace=True)\n",
    "#                 print(merge_df.shape, tmp_df.shape)\n",
    "                tmp_df['city'] = city_dict[filename[0]]\n",
    "                merge_df = merge_df.append(tmp_df, ignore_index=True)"
   ]
  },
  {
   "cell_type": "code",
   "execution_count": 5,
   "metadata": {},
   "outputs": [],
   "source": [
    "merge_df.to_csv('merge.csv', index=False, na_rep='NULL')"
   ]
  },
  {
   "cell_type": "code",
   "execution_count": null,
   "metadata": {},
   "outputs": [],
   "source": []
  }
 ],
 "metadata": {
  "kernelspec": {
   "display_name": "Python 3",
   "language": "python",
   "name": "python3"
  },
  "language_info": {
   "codemirror_mode": {
    "name": "ipython",
    "version": 3
   },
   "file_extension": ".py",
   "mimetype": "text/x-python",
   "name": "python",
   "nbconvert_exporter": "python",
   "pygments_lexer": "ipython3",
   "version": "3.7.6"
  }
 },
 "nbformat": 4,
 "nbformat_minor": 4
}
